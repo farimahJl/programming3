{
 "cells": [
  {
   "cell_type": "code",
   "execution_count": 1,
   "metadata": {},
   "outputs": [],
   "source": [
    "import dask\n",
    "import dask.dataframe as dd"
   ]
  },
  {
   "cell_type": "code",
   "execution_count": 2,
   "metadata": {},
   "outputs": [],
   "source": [
    "# InterProScan default column names\n",
    "COLUMNS = ['prot_access', 'sequ_md5_dig', 'seq_len',\n",
    "'analysis', 'sign_access', 'sign_descr', 'start_loc', 'stop_loc',\n",
    "'score', 'status', 'date', 'iPro_access', 'iPro_descr',\n",
    "'GO_annot', 'pathway']\n"
   ]
  },
  {
   "cell_type": "code",
   "execution_count": 29,
   "metadata": {},
   "outputs": [],
   "source": [
    "# test data\n",
    "# path = 'data/mock_data.csv'\n",
    "# path = 'data/mock_data_100000.csv'\n",
    "\n",
    "path='/data/datsaprocessing/interproscan/all_bacilli.tsv'\n",
    "\n",
    "# df = dd.read_csv(path, dtype={'score':'object'}, blocksize='500MB').set_index('prot_access')\n",
    "df = dd.read_csv(path, sep='\\t', names=COLUMNS, dtype={'score': 'object'}, blocksize='500MB').set_index('prot_access')"
   ]
  },
  {
   "cell_type": "code",
   "execution_count": 4,
   "metadata": {},
   "outputs": [
    {
     "data": {
      "text/html": [
       "<div>\n",
       "<style scoped>\n",
       "    .dataframe tbody tr th:only-of-type {\n",
       "        vertical-align: middle;\n",
       "    }\n",
       "\n",
       "    .dataframe tbody tr th {\n",
       "        vertical-align: top;\n",
       "    }\n",
       "\n",
       "    .dataframe thead th {\n",
       "        text-align: right;\n",
       "    }\n",
       "</style>\n",
       "<table border=\"1\" class=\"dataframe\">\n",
       "  <thead>\n",
       "    <tr style=\"text-align: right;\">\n",
       "      <th></th>\n",
       "      <th>sequ_md5_dig</th>\n",
       "      <th>seq_len</th>\n",
       "      <th>analysis</th>\n",
       "      <th>sign_access</th>\n",
       "      <th>sign_descr</th>\n",
       "      <th>start_loc</th>\n",
       "      <th>stop_loc</th>\n",
       "      <th>score</th>\n",
       "      <th>status</th>\n",
       "      <th>date</th>\n",
       "      <th>iPro_access</th>\n",
       "      <th>iPro_descr</th>\n",
       "      <th>GO_annot</th>\n",
       "      <th>pathway</th>\n",
       "    </tr>\n",
       "    <tr>\n",
       "      <th>prot_access</th>\n",
       "      <th></th>\n",
       "      <th></th>\n",
       "      <th></th>\n",
       "      <th></th>\n",
       "      <th></th>\n",
       "      <th></th>\n",
       "      <th></th>\n",
       "      <th></th>\n",
       "      <th></th>\n",
       "      <th></th>\n",
       "      <th></th>\n",
       "      <th></th>\n",
       "      <th></th>\n",
       "      <th></th>\n",
       "    </tr>\n",
       "  </thead>\n",
       "  <tbody>\n",
       "    <tr>\n",
       "      <th>gi|269850218|gb|AAP25868.2|</th>\n",
       "      <td>1a2e1b20af7796eaa0970aed49034347</td>\n",
       "      <td>465</td>\n",
       "      <td>CDD</td>\n",
       "      <td>cd00075</td>\n",
       "      <td>HATPase</td>\n",
       "      <td>364</td>\n",
       "      <td>463</td>\n",
       "      <td>4.4491E-31</td>\n",
       "      <td>T</td>\n",
       "      <td>25-04-2022</td>\n",
       "      <td>-</td>\n",
       "      <td>-</td>\n",
       "      <td>NaN</td>\n",
       "      <td>NaN</td>\n",
       "    </tr>\n",
       "  </tbody>\n",
       "</table>\n",
       "</div>"
      ],
      "text/plain": [
       "                                                 sequ_md5_dig  seq_len  \\\n",
       "prot_access                                                              \n",
       "gi|269850218|gb|AAP25868.2|  1a2e1b20af7796eaa0970aed49034347      465   \n",
       "\n",
       "                            analysis sign_access sign_descr  start_loc  \\\n",
       "prot_access                                                              \n",
       "gi|269850218|gb|AAP25868.2|      CDD     cd00075    HATPase        364   \n",
       "\n",
       "                             stop_loc       score status        date  \\\n",
       "prot_access                                                            \n",
       "gi|269850218|gb|AAP25868.2|       463  4.4491E-31      T  25-04-2022   \n",
       "\n",
       "                            iPro_access iPro_descr GO_annot pathway  \n",
       "prot_access                                                          \n",
       "gi|269850218|gb|AAP25868.2|           -          -      NaN     NaN  "
      ]
     },
     "execution_count": 4,
     "metadata": {},
     "output_type": "execute_result"
    }
   ],
   "source": [
    "df.head(1)"
   ]
  },
  {
   "cell_type": "code",
   "execution_count": 5,
   "metadata": {},
   "outputs": [
    {
     "data": {
      "text/html": [
       "<div>\n",
       "<style scoped>\n",
       "    .dataframe tbody tr th:only-of-type {\n",
       "        vertical-align: middle;\n",
       "    }\n",
       "\n",
       "    .dataframe tbody tr th {\n",
       "        vertical-align: top;\n",
       "    }\n",
       "\n",
       "    .dataframe thead th {\n",
       "        text-align: right;\n",
       "    }\n",
       "</style>\n",
       "<table border=\"1\" class=\"dataframe\">\n",
       "  <thead>\n",
       "    <tr style=\"text-align: right;\">\n",
       "      <th></th>\n",
       "      <th>sequ_md5_dig</th>\n",
       "      <th>seq_len</th>\n",
       "      <th>analysis</th>\n",
       "      <th>sign_access</th>\n",
       "      <th>sign_descr</th>\n",
       "      <th>start_loc</th>\n",
       "      <th>stop_loc</th>\n",
       "      <th>score</th>\n",
       "      <th>status</th>\n",
       "      <th>date</th>\n",
       "      <th>iPro_access</th>\n",
       "      <th>iPro_descr</th>\n",
       "      <th>GO_annot</th>\n",
       "      <th>pathway</th>\n",
       "    </tr>\n",
       "    <tr>\n",
       "      <th>prot_access</th>\n",
       "      <th></th>\n",
       "      <th></th>\n",
       "      <th></th>\n",
       "      <th></th>\n",
       "      <th></th>\n",
       "      <th></th>\n",
       "      <th></th>\n",
       "      <th></th>\n",
       "      <th></th>\n",
       "      <th></th>\n",
       "      <th></th>\n",
       "      <th></th>\n",
       "      <th></th>\n",
       "      <th></th>\n",
       "    </tr>\n",
       "  </thead>\n",
       "  <tbody>\n",
       "    <tr>\n",
       "      <th>gi|30260184|gb|AAP29369.1|</th>\n",
       "      <td>497e9c4a1564a7769e7dd6a69b2e8e50</td>\n",
       "      <td>44</td>\n",
       "      <td>MobiDBLite</td>\n",
       "      <td>mobidb-lite</td>\n",
       "      <td>consensus disorder prediction</td>\n",
       "      <td>30</td>\n",
       "      <td>44</td>\n",
       "      <td>-</td>\n",
       "      <td>T</td>\n",
       "      <td>25-04-2022</td>\n",
       "      <td>-</td>\n",
       "      <td>-</td>\n",
       "      <td>NaN</td>\n",
       "      <td>NaN</td>\n",
       "    </tr>\n",
       "  </tbody>\n",
       "</table>\n",
       "</div>"
      ],
      "text/plain": [
       "                                                sequ_md5_dig  seq_len  \\\n",
       "prot_access                                                             \n",
       "gi|30260184|gb|AAP29369.1|  497e9c4a1564a7769e7dd6a69b2e8e50       44   \n",
       "\n",
       "                              analysis  sign_access  \\\n",
       "prot_access                                           \n",
       "gi|30260184|gb|AAP29369.1|  MobiDBLite  mobidb-lite   \n",
       "\n",
       "                                               sign_descr  start_loc  \\\n",
       "prot_access                                                            \n",
       "gi|30260184|gb|AAP29369.1|  consensus disorder prediction         30   \n",
       "\n",
       "                            stop_loc score status        date iPro_access  \\\n",
       "prot_access                                                                 \n",
       "gi|30260184|gb|AAP29369.1|        44     -      T  25-04-2022           -   \n",
       "\n",
       "                           iPro_descr GO_annot pathway  \n",
       "prot_access                                             \n",
       "gi|30260184|gb|AAP29369.1|          -      NaN     NaN  "
      ]
     },
     "execution_count": 5,
     "metadata": {},
     "output_type": "execute_result"
    }
   ],
   "source": [
    "df.tail(1)"
   ]
  },
  {
   "cell_type": "code",
   "execution_count": 6,
   "metadata": {},
   "outputs": [],
   "source": [
    "selection = df[df['iPro_access'] != '-']\n",
    "selection = selection[['seq_len', 'iPro_access', 'start_loc', 'stop_loc']]"
   ]
  },
  {
   "cell_type": "code",
   "execution_count": 7,
   "metadata": {},
   "outputs": [
    {
     "data": {
      "text/html": [
       "<div>\n",
       "<style scoped>\n",
       "    .dataframe tbody tr th:only-of-type {\n",
       "        vertical-align: middle;\n",
       "    }\n",
       "\n",
       "    .dataframe tbody tr th {\n",
       "        vertical-align: top;\n",
       "    }\n",
       "\n",
       "    .dataframe thead th {\n",
       "        text-align: right;\n",
       "    }\n",
       "</style>\n",
       "<table border=\"1\" class=\"dataframe\">\n",
       "  <thead>\n",
       "    <tr style=\"text-align: right;\">\n",
       "      <th></th>\n",
       "      <th>seq_len</th>\n",
       "      <th>iPro_access</th>\n",
       "      <th>start_loc</th>\n",
       "      <th>stop_loc</th>\n",
       "    </tr>\n",
       "    <tr>\n",
       "      <th>prot_access</th>\n",
       "      <th></th>\n",
       "      <th></th>\n",
       "      <th></th>\n",
       "      <th></th>\n",
       "    </tr>\n",
       "  </thead>\n",
       "  <tbody>\n",
       "    <tr>\n",
       "      <th>gi|269850218|gb|AAP25868.2|</th>\n",
       "      <td>465</td>\n",
       "      <td>IPR003661</td>\n",
       "      <td>248</td>\n",
       "      <td>314</td>\n",
       "    </tr>\n",
       "    <tr>\n",
       "      <th>gi|269850218|gb|AAP25868.2|</th>\n",
       "      <td>465</td>\n",
       "      <td>IPR005467</td>\n",
       "      <td>255</td>\n",
       "      <td>465</td>\n",
       "    </tr>\n",
       "    <tr>\n",
       "      <th>gi|269850218|gb|AAP25868.2|</th>\n",
       "      <td>465</td>\n",
       "      <td>IPR003594</td>\n",
       "      <td>359</td>\n",
       "      <td>465</td>\n",
       "    </tr>\n",
       "    <tr>\n",
       "      <th>gi|269850218|gb|AAP25868.2|</th>\n",
       "      <td>465</td>\n",
       "      <td>IPR003660</td>\n",
       "      <td>192</td>\n",
       "      <td>243</td>\n",
       "    </tr>\n",
       "    <tr>\n",
       "      <th>gi|269850218|gb|AAP25868.2|</th>\n",
       "      <td>465</td>\n",
       "      <td>IPR036097</td>\n",
       "      <td>231</td>\n",
       "      <td>316</td>\n",
       "    </tr>\n",
       "  </tbody>\n",
       "</table>\n",
       "</div>"
      ],
      "text/plain": [
       "                             seq_len iPro_access  start_loc  stop_loc\n",
       "prot_access                                                          \n",
       "gi|269850218|gb|AAP25868.2|      465   IPR003661        248       314\n",
       "gi|269850218|gb|AAP25868.2|      465   IPR005467        255       465\n",
       "gi|269850218|gb|AAP25868.2|      465   IPR003594        359       465\n",
       "gi|269850218|gb|AAP25868.2|      465   IPR003660        192       243\n",
       "gi|269850218|gb|AAP25868.2|      465   IPR036097        231       316"
      ]
     },
     "execution_count": 7,
     "metadata": {},
     "output_type": "execute_result"
    }
   ],
   "source": [
    "selection.head()"
   ]
  },
  {
   "cell_type": "code",
   "execution_count": 8,
   "metadata": {},
   "outputs": [
    {
     "data": {
      "text/html": [
       "<div>\n",
       "<style scoped>\n",
       "    .dataframe tbody tr th:only-of-type {\n",
       "        vertical-align: middle;\n",
       "    }\n",
       "\n",
       "    .dataframe tbody tr th {\n",
       "        vertical-align: top;\n",
       "    }\n",
       "\n",
       "    .dataframe thead th {\n",
       "        text-align: right;\n",
       "    }\n",
       "</style>\n",
       "<table border=\"1\" class=\"dataframe\">\n",
       "  <thead>\n",
       "    <tr style=\"text-align: right;\">\n",
       "      <th></th>\n",
       "      <th>seq_len</th>\n",
       "      <th>iPro_access</th>\n",
       "      <th>start_loc</th>\n",
       "      <th>stop_loc</th>\n",
       "    </tr>\n",
       "    <tr>\n",
       "      <th>prot_access</th>\n",
       "      <th></th>\n",
       "      <th></th>\n",
       "      <th></th>\n",
       "      <th></th>\n",
       "    </tr>\n",
       "  </thead>\n",
       "  <tbody>\n",
       "    <tr>\n",
       "      <th>gi|30260184|gb|AAP29369.1|</th>\n",
       "      <td>44</td>\n",
       "      <td>IPR020939</td>\n",
       "      <td>2</td>\n",
       "      <td>21</td>\n",
       "    </tr>\n",
       "  </tbody>\n",
       "</table>\n",
       "</div>"
      ],
      "text/plain": [
       "                            seq_len iPro_access  start_loc  stop_loc\n",
       "prot_access                                                         \n",
       "gi|30260184|gb|AAP29369.1|       44   IPR020939          2        21"
      ]
     },
     "execution_count": 8,
     "metadata": {},
     "output_type": "execute_result"
    }
   ],
   "source": [
    "selection.tail(1)"
   ]
  },
  {
   "cell_type": "code",
   "execution_count": 9,
   "metadata": {},
   "outputs": [],
   "source": [
    "selection['difference'] = (selection['stop_loc'].astype(float) - selection['start_loc'].astype(float)) / selection['seq_len'].astype(float)"
   ]
  },
  {
   "cell_type": "code",
   "execution_count": 10,
   "metadata": {},
   "outputs": [
    {
     "data": {
      "text/html": [
       "<div>\n",
       "<style scoped>\n",
       "    .dataframe tbody tr th:only-of-type {\n",
       "        vertical-align: middle;\n",
       "    }\n",
       "\n",
       "    .dataframe tbody tr th {\n",
       "        vertical-align: top;\n",
       "    }\n",
       "\n",
       "    .dataframe thead th {\n",
       "        text-align: right;\n",
       "    }\n",
       "</style>\n",
       "<table border=\"1\" class=\"dataframe\">\n",
       "  <thead>\n",
       "    <tr style=\"text-align: right;\">\n",
       "      <th></th>\n",
       "      <th>seq_len</th>\n",
       "      <th>iPro_access</th>\n",
       "      <th>start_loc</th>\n",
       "      <th>stop_loc</th>\n",
       "      <th>difference</th>\n",
       "    </tr>\n",
       "    <tr>\n",
       "      <th>prot_access</th>\n",
       "      <th></th>\n",
       "      <th></th>\n",
       "      <th></th>\n",
       "      <th></th>\n",
       "      <th></th>\n",
       "    </tr>\n",
       "  </thead>\n",
       "  <tbody>\n",
       "    <tr>\n",
       "      <th>gi|29893821|gb|AAP07113.1|</th>\n",
       "      <td>70</td>\n",
       "      <td>IPR036986</td>\n",
       "      <td>1</td>\n",
       "      <td>70</td>\n",
       "      <td>0.985714</td>\n",
       "    </tr>\n",
       "    <tr>\n",
       "      <th>gi|29893821|gb|AAP07113.1|</th>\n",
       "      <td>70</td>\n",
       "      <td>IPR014330</td>\n",
       "      <td>4</td>\n",
       "      <td>62</td>\n",
       "      <td>0.828571</td>\n",
       "    </tr>\n",
       "    <tr>\n",
       "      <th>gi|29893849|gb|AAP07141.1|</th>\n",
       "      <td>660</td>\n",
       "      <td>IPR041872</td>\n",
       "      <td>391</td>\n",
       "      <td>531</td>\n",
       "      <td>0.212121</td>\n",
       "    </tr>\n",
       "    <tr>\n",
       "      <th>gi|29893849|gb|AAP07141.1|</th>\n",
       "      <td>660</td>\n",
       "      <td>IPR002547</td>\n",
       "      <td>566</td>\n",
       "      <td>658</td>\n",
       "      <td>0.139394</td>\n",
       "    </tr>\n",
       "    <tr>\n",
       "      <th>gi|29893849|gb|AAP07141.1|</th>\n",
       "      <td>660</td>\n",
       "      <td>IPR014729</td>\n",
       "      <td>8</td>\n",
       "      <td>346</td>\n",
       "      <td>0.512121</td>\n",
       "    </tr>\n",
       "  </tbody>\n",
       "</table>\n",
       "</div>"
      ],
      "text/plain": [
       "                            seq_len iPro_access  start_loc  stop_loc  \\\n",
       "prot_access                                                            \n",
       "gi|29893821|gb|AAP07113.1|       70   IPR036986          1        70   \n",
       "gi|29893821|gb|AAP07113.1|       70   IPR014330          4        62   \n",
       "gi|29893849|gb|AAP07141.1|      660   IPR041872        391       531   \n",
       "gi|29893849|gb|AAP07141.1|      660   IPR002547        566       658   \n",
       "gi|29893849|gb|AAP07141.1|      660   IPR014729          8       346   \n",
       "\n",
       "                            difference  \n",
       "prot_access                             \n",
       "gi|29893821|gb|AAP07113.1|    0.985714  \n",
       "gi|29893821|gb|AAP07113.1|    0.828571  \n",
       "gi|29893849|gb|AAP07141.1|    0.212121  \n",
       "gi|29893849|gb|AAP07141.1|    0.139394  \n",
       "gi|29893849|gb|AAP07141.1|    0.512121  "
      ]
     },
     "execution_count": 10,
     "metadata": {},
     "output_type": "execute_result"
    }
   ],
   "source": [
    "selection.head()"
   ]
  },
  {
   "cell_type": "code",
   "execution_count": 10,
   "metadata": {},
   "outputs": [],
   "source": [
    "computed = selection[['iPro_access', 'difference']]\n",
    "# computed.head(1)"
   ]
  },
  {
   "cell_type": "code",
   "execution_count": 11,
   "metadata": {},
   "outputs": [],
   "source": [
    "test = computed.reset_index()\n",
    "test = test.categorize(columns=['iPro_access'])"
   ]
  },
  {
   "cell_type": "code",
   "execution_count": 12,
   "metadata": {},
   "outputs": [],
   "source": [
    "piv = dask.dataframe.reshape.pivot_table(test, index='prot_access', columns='iPro_access')"
   ]
  },
  {
   "cell_type": "code",
   "execution_count": 13,
   "metadata": {},
   "outputs": [
    {
     "data": {
      "text/html": [
       "<div>\n",
       "<style scoped>\n",
       "    .dataframe tbody tr th:only-of-type {\n",
       "        vertical-align: middle;\n",
       "    }\n",
       "\n",
       "    .dataframe tbody tr th {\n",
       "        vertical-align: top;\n",
       "    }\n",
       "\n",
       "    .dataframe thead tr th {\n",
       "        text-align: left;\n",
       "    }\n",
       "\n",
       "    .dataframe thead tr:last-of-type th {\n",
       "        text-align: right;\n",
       "    }\n",
       "</style>\n",
       "<table border=\"1\" class=\"dataframe\">\n",
       "  <thead>\n",
       "    <tr>\n",
       "      <th></th>\n",
       "      <th colspan=\"21\" halign=\"left\">difference</th>\n",
       "    </tr>\n",
       "    <tr>\n",
       "      <th>iPro_access</th>\n",
       "      <th>IPR003661</th>\n",
       "      <th>IPR005467</th>\n",
       "      <th>IPR003594</th>\n",
       "      <th>IPR003660</th>\n",
       "      <th>IPR036097</th>\n",
       "      <th>IPR004358</th>\n",
       "      <th>IPR036890</th>\n",
       "      <th>IPR029044</th>\n",
       "      <th>IPR001173</th>\n",
       "      <th>IPR005286</th>\n",
       "      <th>...</th>\n",
       "      <th>IPR022896</th>\n",
       "      <th>IPR023599</th>\n",
       "      <th>IPR015860</th>\n",
       "      <th>IPR008929</th>\n",
       "      <th>IPR031680</th>\n",
       "      <th>IPR012480</th>\n",
       "      <th>IPR011123</th>\n",
       "      <th>IPR025099</th>\n",
       "      <th>IPR025152</th>\n",
       "      <th>IPR007267</th>\n",
       "    </tr>\n",
       "    <tr>\n",
       "      <th>prot_access</th>\n",
       "      <th></th>\n",
       "      <th></th>\n",
       "      <th></th>\n",
       "      <th></th>\n",
       "      <th></th>\n",
       "      <th></th>\n",
       "      <th></th>\n",
       "      <th></th>\n",
       "      <th></th>\n",
       "      <th></th>\n",
       "      <th></th>\n",
       "      <th></th>\n",
       "      <th></th>\n",
       "      <th></th>\n",
       "      <th></th>\n",
       "      <th></th>\n",
       "      <th></th>\n",
       "      <th></th>\n",
       "      <th></th>\n",
       "      <th></th>\n",
       "      <th></th>\n",
       "    </tr>\n",
       "  </thead>\n",
       "  <tbody>\n",
       "    <tr>\n",
       "      <th>gi|269850218|gb|AAP25868.2|</th>\n",
       "      <td>0.141935</td>\n",
       "      <td>0.451613</td>\n",
       "      <td>0.227957</td>\n",
       "      <td>0.111111</td>\n",
       "      <td>0.182796</td>\n",
       "      <td>0.032258</td>\n",
       "      <td>0.335484</td>\n",
       "      <td>NaN</td>\n",
       "      <td>NaN</td>\n",
       "      <td>NaN</td>\n",
       "      <td>...</td>\n",
       "      <td>NaN</td>\n",
       "      <td>NaN</td>\n",
       "      <td>NaN</td>\n",
       "      <td>NaN</td>\n",
       "      <td>NaN</td>\n",
       "      <td>NaN</td>\n",
       "      <td>NaN</td>\n",
       "      <td>NaN</td>\n",
       "      <td>NaN</td>\n",
       "      <td>NaN</td>\n",
       "    </tr>\n",
       "    <tr>\n",
       "      <th>gi|269850219|gb|AAP29310.2|</th>\n",
       "      <td>NaN</td>\n",
       "      <td>NaN</td>\n",
       "      <td>NaN</td>\n",
       "      <td>NaN</td>\n",
       "      <td>NaN</td>\n",
       "      <td>NaN</td>\n",
       "      <td>NaN</td>\n",
       "      <td>0.809524</td>\n",
       "      <td>0.424908</td>\n",
       "      <td>NaN</td>\n",
       "      <td>...</td>\n",
       "      <td>NaN</td>\n",
       "      <td>NaN</td>\n",
       "      <td>NaN</td>\n",
       "      <td>NaN</td>\n",
       "      <td>NaN</td>\n",
       "      <td>NaN</td>\n",
       "      <td>NaN</td>\n",
       "      <td>NaN</td>\n",
       "      <td>NaN</td>\n",
       "      <td>NaN</td>\n",
       "    </tr>\n",
       "    <tr>\n",
       "      <th>gi|269850220|gb|AAP29073.2|</th>\n",
       "      <td>NaN</td>\n",
       "      <td>NaN</td>\n",
       "      <td>NaN</td>\n",
       "      <td>NaN</td>\n",
       "      <td>NaN</td>\n",
       "      <td>NaN</td>\n",
       "      <td>NaN</td>\n",
       "      <td>NaN</td>\n",
       "      <td>NaN</td>\n",
       "      <td>0.929825</td>\n",
       "      <td>...</td>\n",
       "      <td>NaN</td>\n",
       "      <td>NaN</td>\n",
       "      <td>NaN</td>\n",
       "      <td>NaN</td>\n",
       "      <td>NaN</td>\n",
       "      <td>NaN</td>\n",
       "      <td>NaN</td>\n",
       "      <td>NaN</td>\n",
       "      <td>NaN</td>\n",
       "      <td>NaN</td>\n",
       "    </tr>\n",
       "    <tr>\n",
       "      <th>gi|269850221|gb|AAP24130.2|</th>\n",
       "      <td>NaN</td>\n",
       "      <td>NaN</td>\n",
       "      <td>NaN</td>\n",
       "      <td>NaN</td>\n",
       "      <td>NaN</td>\n",
       "      <td>NaN</td>\n",
       "      <td>NaN</td>\n",
       "      <td>NaN</td>\n",
       "      <td>NaN</td>\n",
       "      <td>NaN</td>\n",
       "      <td>...</td>\n",
       "      <td>NaN</td>\n",
       "      <td>NaN</td>\n",
       "      <td>NaN</td>\n",
       "      <td>NaN</td>\n",
       "      <td>NaN</td>\n",
       "      <td>NaN</td>\n",
       "      <td>NaN</td>\n",
       "      <td>NaN</td>\n",
       "      <td>NaN</td>\n",
       "      <td>NaN</td>\n",
       "    </tr>\n",
       "    <tr>\n",
       "      <th>gi|269850222|gb|AAP28537.2|</th>\n",
       "      <td>NaN</td>\n",
       "      <td>NaN</td>\n",
       "      <td>NaN</td>\n",
       "      <td>NaN</td>\n",
       "      <td>NaN</td>\n",
       "      <td>NaN</td>\n",
       "      <td>NaN</td>\n",
       "      <td>NaN</td>\n",
       "      <td>NaN</td>\n",
       "      <td>NaN</td>\n",
       "      <td>...</td>\n",
       "      <td>NaN</td>\n",
       "      <td>NaN</td>\n",
       "      <td>NaN</td>\n",
       "      <td>NaN</td>\n",
       "      <td>NaN</td>\n",
       "      <td>NaN</td>\n",
       "      <td>NaN</td>\n",
       "      <td>NaN</td>\n",
       "      <td>NaN</td>\n",
       "      <td>NaN</td>\n",
       "    </tr>\n",
       "  </tbody>\n",
       "</table>\n",
       "<p>5 rows × 5673 columns</p>\n",
       "</div>"
      ],
      "text/plain": [
       "                            difference                                \\\n",
       "iPro_access                  IPR003661 IPR005467 IPR003594 IPR003660   \n",
       "prot_access                                                            \n",
       "gi|269850218|gb|AAP25868.2|   0.141935  0.451613  0.227957  0.111111   \n",
       "gi|269850219|gb|AAP29310.2|        NaN       NaN       NaN       NaN   \n",
       "gi|269850220|gb|AAP29073.2|        NaN       NaN       NaN       NaN   \n",
       "gi|269850221|gb|AAP24130.2|        NaN       NaN       NaN       NaN   \n",
       "gi|269850222|gb|AAP28537.2|        NaN       NaN       NaN       NaN   \n",
       "\n",
       "                                                                               \\\n",
       "iPro_access                 IPR036097 IPR004358 IPR036890 IPR029044 IPR001173   \n",
       "prot_access                                                                     \n",
       "gi|269850218|gb|AAP25868.2|  0.182796  0.032258  0.335484       NaN       NaN   \n",
       "gi|269850219|gb|AAP29310.2|       NaN       NaN       NaN  0.809524  0.424908   \n",
       "gi|269850220|gb|AAP29073.2|       NaN       NaN       NaN       NaN       NaN   \n",
       "gi|269850221|gb|AAP24130.2|       NaN       NaN       NaN       NaN       NaN   \n",
       "gi|269850222|gb|AAP28537.2|       NaN       NaN       NaN       NaN       NaN   \n",
       "\n",
       "                                       ...                                \\\n",
       "iPro_access                 IPR005286  ... IPR022896 IPR023599 IPR015860   \n",
       "prot_access                            ...                                 \n",
       "gi|269850218|gb|AAP25868.2|       NaN  ...       NaN       NaN       NaN   \n",
       "gi|269850219|gb|AAP29310.2|       NaN  ...       NaN       NaN       NaN   \n",
       "gi|269850220|gb|AAP29073.2|  0.929825  ...       NaN       NaN       NaN   \n",
       "gi|269850221|gb|AAP24130.2|       NaN  ...       NaN       NaN       NaN   \n",
       "gi|269850222|gb|AAP28537.2|       NaN  ...       NaN       NaN       NaN   \n",
       "\n",
       "                                                                               \\\n",
       "iPro_access                 IPR008929 IPR031680 IPR012480 IPR011123 IPR025099   \n",
       "prot_access                                                                     \n",
       "gi|269850218|gb|AAP25868.2|       NaN       NaN       NaN       NaN       NaN   \n",
       "gi|269850219|gb|AAP29310.2|       NaN       NaN       NaN       NaN       NaN   \n",
       "gi|269850220|gb|AAP29073.2|       NaN       NaN       NaN       NaN       NaN   \n",
       "gi|269850221|gb|AAP24130.2|       NaN       NaN       NaN       NaN       NaN   \n",
       "gi|269850222|gb|AAP28537.2|       NaN       NaN       NaN       NaN       NaN   \n",
       "\n",
       "                                                 \n",
       "iPro_access                 IPR025152 IPR007267  \n",
       "prot_access                                      \n",
       "gi|269850218|gb|AAP25868.2|       NaN       NaN  \n",
       "gi|269850219|gb|AAP29310.2|       NaN       NaN  \n",
       "gi|269850220|gb|AAP29073.2|       NaN       NaN  \n",
       "gi|269850221|gb|AAP24130.2|       NaN       NaN  \n",
       "gi|269850222|gb|AAP28537.2|       NaN       NaN  \n",
       "\n",
       "[5 rows x 5673 columns]"
      ]
     },
     "execution_count": 13,
     "metadata": {},
     "output_type": "execute_result"
    }
   ],
   "source": [
    "piv.head()"
   ]
  },
  {
   "cell_type": "code",
   "execution_count": 14,
   "metadata": {},
   "outputs": [
    {
     "name": "stderr",
     "output_type": "stream",
     "text": [
      "/tmp/ipykernel_2233081/2322953700.py:3: FutureWarning: Columnar iteration over characters will be deprecated in future releases.\n",
      "  _, labels = t.str\n"
     ]
    }
   ],
   "source": [
    "y = piv.idxmax(axis=1)\n",
    "t = y.compute()\n",
    "_, labels = t.str"
   ]
  },
  {
   "cell_type": "code",
   "execution_count": 15,
   "metadata": {},
   "outputs": [],
   "source": [
    "X = piv.notnull().astype(int)\n",
    "# X.head()"
   ]
  },
  {
   "cell_type": "markdown",
   "metadata": {},
   "source": [
    "# machine learning part"
   ]
  },
  {
   "cell_type": "code",
   "execution_count": 16,
   "metadata": {},
   "outputs": [],
   "source": [
    "from dask_ml.model_selection import train_test_split\n",
    "from dask_ml.wrappers import Incremental\n",
    "from sklearn.preprocessing import LabelEncoder\n",
    "from sklearn.linear_model import SGDClassifier\n",
    "import dask.array as da"
   ]
  },
  {
   "cell_type": "code",
   "execution_count": 17,
   "metadata": {},
   "outputs": [
    {
     "data": {
      "text/plain": [
       "LabelEncoder()"
      ]
     },
     "execution_count": 17,
     "metadata": {},
     "output_type": "execute_result"
    }
   ],
   "source": [
    "enc = LabelEncoder()\n",
    "enc.fit(labels)"
   ]
  },
  {
   "cell_type": "code",
   "execution_count": 18,
   "metadata": {},
   "outputs": [],
   "source": [
    "y_labels = enc.transform(labels)"
   ]
  },
  {
   "cell_type": "code",
   "execution_count": 19,
   "metadata": {},
   "outputs": [],
   "source": [
    "X_arr = X.to_dask_array(lengths=True)\n",
    "y_arr = da.from_array(y_labels, chunks=X_arr.chunksize[0])"
   ]
  },
  {
   "cell_type": "code",
   "execution_count": 20,
   "metadata": {},
   "outputs": [],
   "source": [
    "X_train, X_test, y_train, y_test = train_test_split(X_arr, y_arr, test_size=0.2, random_state=0)"
   ]
  },
  {
   "cell_type": "markdown",
   "metadata": {},
   "source": [
    "### test"
   ]
  },
  {
   "cell_type": "code",
   "execution_count": 21,
   "metadata": {},
   "outputs": [
    {
     "name": "stderr",
     "output_type": "stream",
     "text": [
      "/commons/conda/lib/python3.9/site-packages/distributed/node.py:180: UserWarning: Port 8787 is already in use.\n",
      "Perhaps you already have a cluster running?\n",
      "Hosting the HTTP server on port 35721 instead\n",
      "  warnings.warn(\n"
     ]
    }
   ],
   "source": [
    "# test with wrapper\n",
    "from dask.distributed import Client\n",
    "import joblib\n",
    "\n",
    "client = Client(processes=False)"
   ]
  },
  {
   "cell_type": "code",
   "execution_count": 22,
   "metadata": {},
   "outputs": [
    {
     "name": "stderr",
     "output_type": "stream",
     "text": [
      "distributed.comm.inproc - WARNING - Closing dangling queue in <InProc  local=inproc://192.168.11.130/2233081/1 remote=inproc://192.168.11.130/2233081/10>\n"
     ]
    }
   ],
   "source": [
    "from sklearn.ensemble import RandomForestClassifier\n",
    "\n",
    "try:\n",
    "\tmodel = RandomForestClassifier(random_state=0)\n",
    "\twith joblib.parallel_backend('dask'):\n",
    "\t\tmodel.fit(X_train, y_train)\n",
    "except Exception as e:\n",
    "\tprint(e)"
   ]
  },
  {
   "cell_type": "code",
   "execution_count": 23,
   "metadata": {},
   "outputs": [
    {
     "data": {
      "text/plain": [
       "RandomForestClassifier(random_state=0)"
      ]
     },
     "execution_count": 23,
     "metadata": {},
     "output_type": "execute_result"
    }
   ],
   "source": [
    "model"
   ]
  },
  {
   "cell_type": "code",
   "execution_count": 24,
   "metadata": {},
   "outputs": [
    {
     "data": {
      "text/plain": [
       "0.825062034739454"
      ]
     },
     "execution_count": 24,
     "metadata": {},
     "output_type": "execute_result"
    }
   ],
   "source": [
    "model.score(X_test, y_test)"
   ]
  },
  {
   "cell_type": "code",
   "execution_count": 25,
   "metadata": {},
   "outputs": [],
   "source": [
    "from sklearn.ensemble import AdaBoostClassifier"
   ]
  },
  {
   "cell_type": "code",
   "execution_count": 26,
   "metadata": {},
   "outputs": [
    {
     "data": {
      "text/plain": [
       "3.0397022332506202e-02"
      ]
     },
     "execution_count": 26,
     "metadata": {},
     "output_type": "execute_result"
    }
   ],
   "source": [
    "clf = AdaBoostClassifier(random_state=0, n_estimators=100)\n",
    "with joblib.parallel_backend('dask'):\n",
    "\tclf.fit(X_train, y_train)\n",
    "\n",
    "clf.score(X_test, y_test)"
   ]
  },
  {
   "cell_type": "code",
   "execution_count": 27,
   "metadata": {},
   "outputs": [
    {
     "data": {
      "text/plain": [
       "0.6569478908188585"
      ]
     },
     "execution_count": 27,
     "metadata": {},
     "output_type": "execute_result"
    }
   ],
   "source": [
    "from sklearn.linear_model import LogisticRegression\n",
    "\n",
    "clf = LogisticRegression(random_state=0)\n",
    "\n",
    "with joblib.parallel_backend('dask'):\n",
    "\tclf.fit(X_train, y_train)\n",
    "\n",
    "clf.score(X_test, y_test)"
   ]
  },
  {
   "cell_type": "code",
   "execution_count": 1,
   "metadata": {},
   "outputs": [],
   "source": [
    "import pandas as pd"
   ]
  },
  {
   "cell_type": "code",
   "execution_count": 3,
   "metadata": {},
   "outputs": [
    {
     "data": {
      "text/html": [
       "<div>\n",
       "<style scoped>\n",
       "    .dataframe tbody tr th:only-of-type {\n",
       "        vertical-align: middle;\n",
       "    }\n",
       "\n",
       "    .dataframe tbody tr th {\n",
       "        vertical-align: top;\n",
       "    }\n",
       "\n",
       "    .dataframe thead th {\n",
       "        text-align: right;\n",
       "    }\n",
       "</style>\n",
       "<table border=\"1\" class=\"dataframe\">\n",
       "  <thead>\n",
       "    <tr style=\"text-align: right;\">\n",
       "      <th></th>\n",
       "      <th>mean accuracy</th>\n",
       "    </tr>\n",
       "    <tr>\n",
       "      <th>model</th>\n",
       "      <th></th>\n",
       "    </tr>\n",
       "  </thead>\n",
       "  <tbody>\n",
       "    <tr>\n",
       "      <th>random forest</th>\n",
       "      <td>0.825062</td>\n",
       "    </tr>\n",
       "    <tr>\n",
       "      <th>logistic regression</th>\n",
       "      <td>0.656948</td>\n",
       "    </tr>\n",
       "  </tbody>\n",
       "</table>\n",
       "</div>"
      ],
      "text/plain": [
       "                     mean accuracy\n",
       "model                             \n",
       "random forest             0.825062\n",
       "logistic regression       0.656948"
      ]
     },
     "execution_count": 3,
     "metadata": {},
     "output_type": "execute_result"
    }
   ],
   "source": [
    "data = {'model': ['random forest', 'logistic regression'], 'mean accuracy': [0.825062034739454, 0.6569478908188585]}\n",
    "sc = pd.DataFrame(data).set_index('model')\n",
    "sc"
   ]
  },
  {
   "cell_type": "code",
   "execution_count": null,
   "metadata": {},
   "outputs": [],
   "source": []
  }
 ],
 "metadata": {
  "kernelspec": {
   "display_name": "Python 3.9.12 64-bit ('conda')",
   "language": "python",
   "name": "python3"
  },
  "language_info": {
   "codemirror_mode": {
    "name": "ipython",
    "version": 3
   },
   "file_extension": ".py",
   "mimetype": "text/x-python",
   "name": "python",
   "nbconvert_exporter": "python",
   "pygments_lexer": "ipython3",
   "version": "3.9.12"
  },
  "orig_nbformat": 4,
  "vscode": {
   "interpreter": {
    "hash": "615cfd8836d7f31d613a03c789cc926b1162ee8f75eabbc3d1700276e357ac78"
   }
  }
 },
 "nbformat": 4,
 "nbformat_minor": 2
}
