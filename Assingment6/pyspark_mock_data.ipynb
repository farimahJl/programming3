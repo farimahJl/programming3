{
 "cells": [
  {
   "cell_type": "code",
   "execution_count": 1,
   "metadata": {},
   "outputs": [],
   "source": [
    "import pyspark\n",
    "from pyspark.sql import SparkSession\n",
    "from pyspark.sql.types import StructType, StructField, StringType, IntegerType\n"
   ]
  },
  {
   "cell_type": "code",
   "execution_count": 2,
   "metadata": {},
   "outputs": [
    {
     "name": "stderr",
     "output_type": "stream",
     "text": [
      "Setting default log level to \"WARN\".\n",
      "To adjust logging level use sc.setLogLevel(newLevel). For SparkR, use setLogLevel(newLevel).\n"
     ]
    },
    {
     "name": "stdout",
     "output_type": "stream",
     "text": [
      "22/09/12 19:13:43 WARN NativeCodeLoader: Unable to load native-hadoop library for your platform... using builtin-java classes where applicable\n",
      "22/09/12 19:13:44 WARN Utils: Service 'SparkUI' could not bind on port 4040. Attempting port 4041.\n"
     ]
    }
   ],
   "source": [
    "spark = SparkSession.builder.master('local[16]').getOrCreate()"
   ]
  },
  {
   "cell_type": "code",
   "execution_count": 3,
   "metadata": {},
   "outputs": [],
   "source": [
    "schema = StructType() \\\n",
    "\t.add('prot_access', StringType()) \\\n",
    "\t.add('sequ_md5_dig', StringType()) \\\n",
    "\t.add('seq_len', IntegerType()) \\\n",
    "\t.add('analysis', StringType()) \\\n",
    "\t.add('sign_access', StringType()) \\\n",
    "\t.add('sign_descr', StringType()) \\\n",
    "\t.add('start_loc', IntegerType()) \\\n",
    "\t.add('stop_loc', IntegerType()) \\\n",
    "\t.add('score', StringType()) \\\n",
    "\t.add('status', StringType()) \\\n",
    "\t.add('date', StringType()) \\\n",
    "\t.add('iPro_access', StringType()) \\\n",
    "\t.add('iPro_descr', StringType()) \\\n",
    "\t.add('GO_annot', StringType()) \\\n",
    "\t.add('pathway', StringType())\n",
    "\n",
    "# path = '/data/dataprocessing/interproscan/all_bacilli.tsv'\n",
    "path = '/data/dataprocessing/interproscan/all_bacilli.tsv'"
   ]
  },
  {
   "cell_type": "code",
   "execution_count": 4,
   "metadata": {},
   "outputs": [],
   "source": [
    "df = spark.read.csv(path, sep=r'\\t', header=False, schema=schema)"
   ]
  },
  {
   "cell_type": "code",
   "execution_count": 5,
   "metadata": {},
   "outputs": [
    {
     "name": "stderr",
     "output_type": "stream",
     "text": [
      "                                                                                \r"
     ]
    },
    {
     "name": "stdout",
     "output_type": "stream",
     "text": [
      "+--------------------+--------------------+-------+---------------+------------------+--------------------+---------+--------+---------+------+----------+-----------+--------------------+--------+-------+\n",
      "|         prot_access|        sequ_md5_dig|seq_len|       analysis|       sign_access|          sign_descr|start_loc|stop_loc|    score|status|      date|iPro_access|          iPro_descr|GO_annot|pathway|\n",
      "+--------------------+--------------------+-------+---------------+------------------+--------------------+---------+--------+---------+------+----------+-----------+--------------------+--------+-------+\n",
      "|gi|29898682|gb|AA...|92d1264e347e14924...|    547|        TIGRFAM|         TIGR03882|cyclo_dehyd_2: ba...|        2|     131|  1.6E-21|     T|25-04-2022|  IPR022291|Bacteriocin biosy...|       -|      -|\n",
      "|gi|29898682|gb|AA...|92d1264e347e14924...|    547|        TIGRFAM|         TIGR03604|TOMM_cyclo_SagD: ...|      161|     547|      0.0|     T|25-04-2022|  IPR027624|Thiazole/oxazole-...|       -|      -|\n",
      "|gi|29898682|gb|AA...|92d1264e347e14924...|    547|ProSiteProfiles|           PS51664|YcaO domain profile.|      159|     547|75.396477|     T|25-04-2022|  IPR003776|    YcaO-like domain|       -|      -|\n",
      "|gi|29898682|gb|AA...|92d1264e347e14924...|    547|         Gene3D|G3DSA:3.30.160.660|                   -|      311|     452|  9.1E-46|     T|25-04-2022|          -|                   -|    null|   null|\n",
      "|gi|29898682|gb|AA...|92d1264e347e14924...|    547|         Gene3D| G3DSA:3.30.40.250|                   -|      191|     274|  9.1E-46|     T|25-04-2022|          -|                   -|    null|   null|\n",
      "+--------------------+--------------------+-------+---------------+------------------+--------------------+---------+--------+---------+------+----------+-----------+--------------------+--------+-------+\n",
      "only showing top 5 rows\n",
      "\n"
     ]
    }
   ],
   "source": [
    "df.show(5)"
   ]
  },
  {
   "cell_type": "code",
   "execution_count": 6,
   "metadata": {},
   "outputs": [],
   "source": [
    "mock = df.limit(100000)"
   ]
  },
  {
   "cell_type": "code",
   "execution_count": 7,
   "metadata": {},
   "outputs": [
    {
     "name": "stderr",
     "output_type": "stream",
     "text": [
      "                                                                                \r"
     ]
    }
   ],
   "source": [
    "mock.toPandas().to_csv('data/mock_data_100000.csv', index=False)"
   ]
  },
  {
   "cell_type": "code",
   "execution_count": null,
   "metadata": {},
   "outputs": [],
   "source": []
  }
 ],
 "metadata": {
  "kernelspec": {
   "display_name": "Python 3.9.2 64-bit",
   "language": "python",
   "name": "python3"
  },
  "language_info": {
   "codemirror_mode": {
    "name": "ipython",
    "version": 3
   },
   "file_extension": ".py",
   "mimetype": "text/x-python",
   "name": "python",
   "nbconvert_exporter": "python",
   "pygments_lexer": "ipython3",
   "version": "3.9.2"
  },
  "orig_nbformat": 4,
  "vscode": {
   "interpreter": {
    "hash": "31f2aee4e71d21fbe5cf8b01ff0e069b9275f58929596ceb00d14d90e3e16cd6"
   }
  }
 },
 "nbformat": 4,
 "nbformat_minor": 2
}
